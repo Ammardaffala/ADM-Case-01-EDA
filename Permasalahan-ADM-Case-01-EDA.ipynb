{
 "cells": [
  {
   "cell_type": "markdown",
   "id": "a6835ef2",
   "metadata": {},
   "source": [
    "<center><h2><strong><font color=\"blue\">Study Case 01 - Data Mining dan Business Intelligence: EDA</font></strong></h2></center>\n",
    "\n",
    "<img alt=\"\" src=\"images/Ray-pink-Property-Case-Banner.jpg\"/>"
   ]
  },
  {
   "cell_type": "markdown",
   "id": "f040a5f1",
   "metadata": {},
   "source": [
    "# Kasus:\n",
    "\n",
    "* Anda adalah seorang Data Analyst yang bekerja di PT **Ray Pink Property Indonesia** (RPPI).\n",
    "* Manajemen hendak melakukan investasi \n",
    "* Data Property di tahun 2021"
   ]
  },
  {
   "cell_type": "markdown",
   "id": "8d67c737",
   "metadata": {},
   "source": [
    "# Petunjuk:\n",
    "\n",
    "Di studi kasus pertama, anda mendapat bantuan keterangan dari manajemen \n",
    "\n",
    "* Laporkan kualitas data yang dimiliki perusahaan\n",
    "* Apakah ada saran ke DE dan programer terkait data yg dierikan?\n",
    "\n",
    "* Manajemen ingin diversifikasi investasi ... Sebaiknya di kota mana saja dan mengapa?\n",
    "* Kalau Manajemen memiliki dana investasi sebesar XXX milyar, rumah mana saja yang akan anda rekomendasikan\n",
    "* Apakah ada saran lain yang anda akan berikan ke "
   ]
  },
  {
   "cell_type": "markdown",
   "id": "c3e39739",
   "metadata": {},
   "source": [
    "# Penilaian\n",
    "\n",
    "* Code dapat di \"Run-All\" di Google Colab\n",
    "* Pemilihan preprocessing dan visualisasi yang tepay\n",
    "* Interpretasi dan rekomendasi yang baik\n",
    "* "
   ]
  },
  {
   "cell_type": "code",
   "execution_count": null,
   "id": "ddd7f934",
   "metadata": {},
   "outputs": [],
   "source": [
    "# Loading Data:\n",
    "try: # Running Locally, yakinkan \"file_\" berada di folder \"data\"\n",
    "    jkt = pd.read_csv('data/', low_memory = False, encoding='utf8')\n",
    "except: # Running in Google Colab\n",
    "    !mkdir data\n",
    "    !wget -P data/ https://raw.githubusercontent.com/taudata-indonesia/eLearning/master/data/price.csv\n",
    "    price = pd.read_csv(file_, low_memory = False, encoding='utf8')\n"
   ]
  }
 ],
 "metadata": {
  "kernelspec": {
   "display_name": "Python 3 (ipykernel)",
   "language": "python",
   "name": "python3"
  },
  "language_info": {
   "codemirror_mode": {
    "name": "ipython",
    "version": 3
   },
   "file_extension": ".py",
   "mimetype": "text/x-python",
   "name": "python",
   "nbconvert_exporter": "python",
   "pygments_lexer": "ipython3",
   "version": "3.7.13"
  }
 },
 "nbformat": 4,
 "nbformat_minor": 5
}
